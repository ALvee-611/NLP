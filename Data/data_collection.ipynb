{
 "cells": [
  {
   "attachments": {},
   "cell_type": "markdown",
   "metadata": {},
   "source": [
    "# Collecting customer feedback data\n",
    "\n",
    "Inorder to collect customer feedback data, we would first need to collect the data. In this project, we are assuming that the company for which we are analyzing feedback has 3 main channels:\n",
    "- Social Media\n",
    "- Customer Service Call transcripts\n",
    "- Customer Porduct reviews left on the company website"
   ]
  },
  {
   "attachments": {},
   "cell_type": "markdown",
   "metadata": {},
   "source": [
    "### Collecting Customer feedback data from Social Media:\n"
   ]
  }
 ],
 "metadata": {
  "kernelspec": {
   "display_name": "nlp_env",
   "language": "python",
   "name": "python3"
  },
  "language_info": {
   "name": "python",
   "version": "3.11.2"
  },
  "orig_nbformat": 4
 },
 "nbformat": 4,
 "nbformat_minor": 2
}
